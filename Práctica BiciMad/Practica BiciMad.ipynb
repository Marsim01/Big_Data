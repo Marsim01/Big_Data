{
 "cells": [
  {
   "cell_type": "markdown",
   "id": "2d8b6b61",
   "metadata": {},
   "source": [
    "# <center> USO DE EL SERVICIO BICIMAD POR TEMPORADA  \n"
   ]
  },
  {
   "cell_type": "markdown",
   "id": "dc0c63a7",
   "metadata": {},
   "source": [
    "<center> Marta Simón Arévalo"
   ]
  },
  {
   "cell_type": "markdown",
   "id": "fd84fc62",
   "metadata": {},
   "source": [
    "## 1. INTRODUCCIÓN"
   ]
  },
  {
   "cell_type": "markdown",
   "id": "de98aa93",
   "metadata": {},
   "source": [
    "La bicicleta es un método de transporte que podemos usar para trasladarnos por Madrid, al igual que lo podemos hacer por medio del transporte público o privado. Suponemos que el uso de un transporte u otro dependerá de la época del año en la que nos encontremos, ya que hay condiciones meteorológicas o referentes al tipo de población que usa este servicio distintas en cada estación. Por tanto, vamos a plantear un estudio para así ver cuáles son las estaciones del año en las que más se utiliza **BiciMad**.\n",
    "\n",
    "Como en 2014 se empezó a operar el servicio de **BiciMad**, hemos decidido centrarnos en el año 2018 para nuestro análisis. Esto se debe a que ha sido el segundo año más lluvioso en España de la última década, por detrás del año 2010 y creemos que de alguna forma el uso de bicicletas puede verse afectado. Para comparar esto, haremos referencia a los meses de primavera, a otras estaciones y a otro año con aspectos meteorológicos distintos, para así ver los cambios.\n",
    "\n",
    "En cuanto al estudio por temporadas, cabe destacar que cada una estará representada por una estación del año, es decir, invierno, primavera, verano u otoño. La primera correspondería a los meses de diciembre, enero y febrero; la segunda a marzo, abril y mayo; la tercera a junio, julio y agosto; y, por último, la cuarta a los meses de septiembre, octubre y noviembre. \n",
    "\n",
    "Por otra parte, como se trata de un servicio que puede utilizar cualquier persona y puesto que en 2018 la cifra de turistas en la Comunidad de Madrid fue una de la más elevada en los últimos años, dicho grupo puede ser un factor importante a tener en cuenta y que podríamos estudiar más adelante, de forma similar al procedimiento que llevaremos a cabo para tratar las lluvias. De esta forma, estudiaremos los tipos de usuario y las edades de estos a lo largo del año, comparándolo también con otros años. También, se comparará con los meses de otoño para ver la diferencia con la época de reincorporación de trabajadores.\n",
    "\n",
    "Por último, analizaremos también las estaciones que destacan por mayor enganche y desenganche de bicicletas, así como las que menos uso tienen.\n",
    "\n",
    "Los datos que vamos a utilizar para nuestro estudio los hemos descargado de **https://opendata.emtmadrid.es/Datos-estaticos/Datos-generales-(1)**. \n",
    "\n",
    "A continuación, vamos a exponer las **variables** de nuestra base de datos: \n",
    "\n",
    " **- id_**: identificador del movimiento.\n",
    " \n",
    " **- user_day_code**: código del usuario para una fecha.\n",
    " \n",
    " **- idplug_base**: base en la que se engancha la bicicleta.\n",
    " \n",
    " **- user_type**: tipo de usuario que ha realizado el movimiento. Estos son:\n",
    " \n",
    "    - 0: no se ha podido determinar el tipo de usuario.\n",
    "    - 1: usuario anual (pase anual).\n",
    "    - 2: usuario ocasional (perfil turista).\n",
    "    - 3: trabajador de la empresa.\n",
    "    - 6: usuario ocasional (no abonado).\n",
    "    - 7: usuario de BiciMAD GO.\n",
    "  \n",
    " **- idunplug_base**: base de la que se desengancha la bicicleta.\n",
    " \n",
    " **- travel_time**: tiempo total entre el desenganche y el enganche de la bicicleta (en segundos).\n",
    " \n",
    " **- idunplug_station**: estación de la que se desengancha la bicicleta.\n",
    " \n",
    " **- ageRange**: rango de edad del usuario. Siendo:\n",
    "    \n",
    "    - 0: no se ha podido determinar el rango de edad del usuario.\n",
    "    - 1: entre 0 y 16 años.\n",
    "    - 2: entre 17 y 18 años.\n",
    "    - 3: entre 19 y 26 años.\n",
    "    - 4: entre 27 y 40 años.\n",
    "    - 5: entre 41 y 65 años.\n",
    "    - 6: 66 años o más.\n",
    "\n",
    " **- idplug_station**: estación en la que se engancha la bicicleta.\n",
    " \n",
    " **- unplug_hourTime**: franja horaria en la que se realiza el desenganche de la bicicleta. Solo se facilita la hora, sin minutos ni segundos, de inicio del movimiento, por cuestiones de anonimato.\n",
    " \n",
    " **- zip_code**: código postal del usuario que ha realizado el movimiento.\n",
    " "
   ]
  },
  {
   "cell_type": "markdown",
   "id": "6524f7f1",
   "metadata": {},
   "source": [
    "Ahora, se importa lo necesario."
   ]
  },
  {
   "cell_type": "code",
   "execution_count": 1,
   "id": "508279fd",
   "metadata": {},
   "outputs": [],
   "source": [
    "from pyspark.sql import SparkSession\n",
    "spark = SparkSession.builder.getOrCreate()\n",
    "import json\n",
    "from pprint import pprint"
   ]
  },
  {
   "cell_type": "markdown",
   "id": "6437b576",
   "metadata": {},
   "source": [
    "## 2. IMPLEMENTACIÓN EN SPARK"
   ]
  },
  {
   "cell_type": "markdown",
   "id": "fdd4bbae",
   "metadata": {},
   "source": [
    "Para poder empezar con el análisis vamos a limpiar la base de datos, dejando las columnas que nos resulten más interesantes para nuestro estudio. \n",
    "\n",
    "Nos quedaremos con: **_id**, **ageRange**, **idplug_station**, **idunplug_station**, **travel_time**, **unplug_hourTime**, **user_day_code**, **user_type** y **zip_code**.  \n",
    "\n",
    "Además, uniremos nuestros datos **por temporadas**, como ya hemos indicado anteriormente.  "
   ]
  },
  {
   "cell_type": "code",
   "execution_count": 2,
   "id": "ab542b06",
   "metadata": {
    "scrolled": true
   },
   "outputs": [],
   "source": [
    "def datos(df1,df2,df3):\n",
    "    d1 = spark.read.json(df1)\n",
    "    d2 = spark.read.json(df2)\n",
    "    d3 = spark.read.json(df3)\n",
    "    df1 = d1.drop(*('_corrupt_record', 'track','idplug_base','idunplug_base')).na.drop(\"all\")\n",
    "    df2 = d2.drop(*('_corrupt_record', 'track','idplug_base','idunplug_base')).na.drop(\"all\")\n",
    "    df3 = d3.drop(*('_corrupt_record', 'track','idplug_base','idunplug_base')).na.drop(\"all\")\n",
    "    return df1.union(df2.union(df3))"
   ]
  },
  {
   "cell_type": "code",
   "execution_count": 3,
   "id": "82a34306",
   "metadata": {},
   "outputs": [],
   "source": [
    "invierno = datos('201801_Usage_Bicimad.json','201802_Usage_Bicimad.json','201812_Usage_Bicimad.json')\n",
    "primavera = datos('201803_Usage_Bicimad.json','201804_Usage_Bicimad.json','201805_Usage_Bicimad.json')\n",
    "verano = datos('201806_Usage_Bicimad.json','201807_Usage_Bicimad.json','201808_Usage_Bicimad.json')\n",
    "otoño = datos('201809_Usage_Bicimad.json','201810_Usage_Bicimad.json','201811_Usage_Bicimad.json')"
   ]
  },
  {
   "cell_type": "code",
   "execution_count": 4,
   "id": "8a763deb",
   "metadata": {
    "scrolled": true
   },
   "outputs": [
    {
     "name": "stdout",
     "output_type": "stream",
     "text": [
      "Invierno:\n",
      "root\n",
      " |-- _id: struct (nullable = true)\n",
      " |    |-- $oid: string (nullable = true)\n",
      " |-- ageRange: long (nullable = true)\n",
      " |-- idplug_station: long (nullable = true)\n",
      " |-- idunplug_station: long (nullable = true)\n",
      " |-- travel_time: long (nullable = true)\n",
      " |-- unplug_hourTime: struct (nullable = true)\n",
      " |    |-- $date: string (nullable = true)\n",
      " |-- user_day_code: string (nullable = true)\n",
      " |-- user_type: long (nullable = true)\n",
      " |-- zip_code: string (nullable = true)\n",
      "\n",
      "Primavera:\n",
      "root\n",
      " |-- _id: struct (nullable = true)\n",
      " |    |-- $oid: string (nullable = true)\n",
      " |-- ageRange: long (nullable = true)\n",
      " |-- idplug_station: long (nullable = true)\n",
      " |-- idunplug_station: long (nullable = true)\n",
      " |-- travel_time: long (nullable = true)\n",
      " |-- unplug_hourTime: struct (nullable = true)\n",
      " |    |-- $date: string (nullable = true)\n",
      " |-- user_day_code: string (nullable = true)\n",
      " |-- user_type: long (nullable = true)\n",
      " |-- zip_code: string (nullable = true)\n",
      "\n",
      "Verano:\n",
      "root\n",
      " |-- _id: struct (nullable = true)\n",
      " |    |-- $oid: string (nullable = true)\n",
      " |-- ageRange: long (nullable = true)\n",
      " |-- idplug_station: long (nullable = true)\n",
      " |-- idunplug_station: long (nullable = true)\n",
      " |-- travel_time: long (nullable = true)\n",
      " |-- unplug_hourTime: struct (nullable = true)\n",
      " |    |-- $date: string (nullable = true)\n",
      " |-- user_day_code: string (nullable = true)\n",
      " |-- user_type: long (nullable = true)\n",
      " |-- zip_code: string (nullable = true)\n",
      "\n",
      "Otoño:\n",
      "root\n",
      " |-- _id: struct (nullable = true)\n",
      " |    |-- $oid: string (nullable = true)\n",
      " |-- ageRange: long (nullable = true)\n",
      " |-- idplug_station: long (nullable = true)\n",
      " |-- idunplug_station: long (nullable = true)\n",
      " |-- travel_time: long (nullable = true)\n",
      " |-- unplug_hourTime: struct (nullable = true)\n",
      " |    |-- $date: string (nullable = true)\n",
      " |-- user_day_code: string (nullable = true)\n",
      " |-- user_type: long (nullable = true)\n",
      " |-- zip_code: string (nullable = true)\n",
      "\n"
     ]
    }
   ],
   "source": [
    "print ('Invierno:')\n",
    "invierno.printSchema()\n",
    "\n",
    "print ('Primavera:')\n",
    "primavera.printSchema()\n",
    "\n",
    "print ('Verano:')\n",
    "verano.printSchema()\n",
    "\n",
    "print ('Otoño:')\n",
    "otoño.printSchema()"
   ]
  },
  {
   "cell_type": "markdown",
   "id": "74c91b92",
   "metadata": {},
   "source": [
    "## Comparación entre las estaciones del año"
   ]
  },
  {
   "cell_type": "markdown",
   "id": "d8ff7aa1",
   "metadata": {},
   "source": [
    "Una vez ya lista nuestra base de datos, podemos empezar calculando **cuántos viajes** se han realizado en cada estación del año: "
   ]
  },
  {
   "cell_type": "code",
   "execution_count": 5,
   "id": "7cb281f1",
   "metadata": {
    "scrolled": true
   },
   "outputs": [
    {
     "name": "stdout",
     "output_type": "stream",
     "text": [
      "En invierno el número de viajes fue: 725472\n",
      "En primavera el número de viajes fue: 776108\n",
      "En verano el número de viajes fue: 811329\n",
      "En otoño el número de viajes fue: 944893\n"
     ]
    }
   ],
   "source": [
    "print ('En invierno el número de viajes fue: ' + str(invierno.count()))\n",
    "print ('En primavera el número de viajes fue: ' + str(primavera.count()))\n",
    "print ('En verano el número de viajes fue: ' + str(verano.count()))\n",
    "print ('En otoño el número de viajes fue: ' + str(otoño.count()))"
   ]
  },
  {
   "cell_type": "markdown",
   "id": "7a7c6e93",
   "metadata": {},
   "source": [
    "Podemos observar que se han realizado **más viajes durante verano y otoño**, siendo **invierno en la que menos se han hecho** . Por lo que, posteriormente, vamos a estudiar qué tipo de personas son las que utilizan el servicio de BiciMad para hacer un análisis más profundo. \n",
    "\n",
    "Además, en relación a los aspectos meteorológicos ya mencionados, estas estaciones son **las menos lluviosas**."
   ]
  },
  {
   "cell_type": "markdown",
   "id": "ede38f58",
   "metadata": {},
   "source": [
    "Se crea una **función para ver los datos referentes a cada mes**. Así, se pueden estudiar los que corresponden al verano y los de otoño, para ver si en la primera época crece la cifra de turistas y en la siguiente aumentan los trabajadores que vuelven a la rutina, además de los meses de mayor precipitación."
   ]
  },
  {
   "cell_type": "code",
   "execution_count": 6,
   "id": "8045a922",
   "metadata": {},
   "outputs": [],
   "source": [
    "def meses(df):\n",
    "    m = spark.read.json(df)\n",
    "    mes = m.drop(*('_corrupt_record', 'track','idplug_base','idunplug_base')).na.drop(\"all\")\n",
    "    return mes"
   ]
  },
  {
   "cell_type": "markdown",
   "id": "9f3b110e",
   "metadata": {},
   "source": [
    "#### Relación con el clima"
   ]
  },
  {
   "cell_type": "markdown",
   "id": "b6185933",
   "metadata": {},
   "source": [
    "En cuanto al **clima**, como el mes en el que más llovió fue en marzo, vamos a ver si hay alguna diferencia entre los tres meses de primavera."
   ]
  },
  {
   "cell_type": "code",
   "execution_count": 8,
   "id": "91e00503",
   "metadata": {},
   "outputs": [],
   "source": [
    "marzo = meses('201803_Usage_Bicimad.json')\n",
    "abril = meses('201804_Usage_Bicimad.json')\n",
    "mayo = meses('201805_Usage_Bicimad.json')"
   ]
  },
  {
   "cell_type": "code",
   "execution_count": 9,
   "id": "e3fa6905",
   "metadata": {},
   "outputs": [
    {
     "name": "stdout",
     "output_type": "stream",
     "text": [
      "Marzo:\n",
      "+---------+----------------+\n",
      "|user_type|sum(travel_time)|\n",
      "+---------+----------------+\n",
      "|        1|       172488910|\n",
      "|        3|        72840210|\n",
      "|        2|         8357423|\n",
      "+---------+----------------+\n",
      "\n",
      "Abril:\n",
      "+---------+----------------+\n",
      "|user_type|sum(travel_time)|\n",
      "+---------+----------------+\n",
      "|        1|       241861803|\n",
      "|        3|        77857097|\n",
      "|        2|        14956546|\n",
      "+---------+----------------+\n",
      "\n",
      "Mayo:\n",
      "+---------+----------------+\n",
      "|user_type|sum(travel_time)|\n",
      "+---------+----------------+\n",
      "|        1|       214246136|\n",
      "|        3|        52172611|\n",
      "|        2|        15236166|\n",
      "+---------+----------------+\n",
      "\n"
     ]
    }
   ],
   "source": [
    "print ('Marzo:')\n",
    "marzo.groupBy('user_type').sum('travel_time').show()\n",
    "\n",
    "print ('Abril:')\n",
    "abril.groupBy('user_type').sum('travel_time').show()\n",
    "\n",
    "print ('Mayo:')\n",
    "mayo.groupBy('user_type').sum('travel_time').show()"
   ]
  },
  {
   "cell_type": "markdown",
   "id": "02e0f86e",
   "metadata": {},
   "source": [
    "A excepción del grupo 3, los trabajadores de la empresa, **el total de tiempo de trayecto se redujo bastante** para el resto de usuarios. De esta forma, se puede ver que el mes lluvioso ha podido afectar al uso de bicicletas, como habíamos supuesto que sucedería."
   ]
  },
  {
   "cell_type": "code",
   "execution_count": 10,
   "id": "f169c23f",
   "metadata": {
    "scrolled": true
   },
   "outputs": [
    {
     "name": "stdout",
     "output_type": "stream",
     "text": [
      "En marzo el número de viajes fue: 215693\n",
      "En abril el número de viajes fue: 297437\n",
      "En mayo el número de viajes fue: 262978\n"
     ]
    }
   ],
   "source": [
    "print ('En marzo el número de viajes fue: ' + str(marzo.count()))\n",
    "print ('En abril el número de viajes fue: ' + str(abril.count()))\n",
    "print ('En mayo el número de viajes fue: ' + str(mayo.count()))"
   ]
  },
  {
   "cell_type": "markdown",
   "id": "3a6f1009",
   "metadata": {},
   "source": [
    "Comparando los totales, se ve que, entre los tres meses de primavera, **marzo fue cuando menos viajes se hicieron** y **abril el que más**."
   ]
  },
  {
   "cell_type": "markdown",
   "id": "bbaba375",
   "metadata": {},
   "source": [
    "Vamos a probar lo mismo aplicado al **año 2019**, para ver si al hacer mejor tiempo cambió el número de viajes y, por tanto, ver si hay algún tipo de relación entre el clima y el uso de bicicletas."
   ]
  },
  {
   "cell_type": "code",
   "execution_count": 11,
   "id": "ac8ee7be",
   "metadata": {},
   "outputs": [],
   "source": [
    "marzo19 = meses('201903_Usage_Bicimad.json')\n",
    "abril19 = meses('201904_Usage_Bicimad.json')\n",
    "mayo19 = meses('201905_Usage_Bicimad.json')"
   ]
  },
  {
   "cell_type": "code",
   "execution_count": 12,
   "id": "a9d441be",
   "metadata": {},
   "outputs": [
    {
     "name": "stdout",
     "output_type": "stream",
     "text": [
      "En marzo el número de viajes fue: 349979\n",
      "En abril el número de viajes fue: 245527\n",
      "En mayo el número de viajes fue: 398715\n"
     ]
    }
   ],
   "source": [
    "print ('En marzo el número de viajes fue: ' + str(marzo19.count()))\n",
    "print ('En abril el número de viajes fue: ' + str(abril19.count()))\n",
    "print ('En mayo el número de viajes fue: ' + str(mayo19.count()))"
   ]
  },
  {
   "cell_type": "markdown",
   "id": "51757869",
   "metadata": {},
   "source": [
    "Se observa que **el número de viajes aumentó considerablemente para los meses de marzo y mayo** con respecto del año anterior, aunque se hicieron unos 50000 viajes menos que en 2018."
   ]
  },
  {
   "cell_type": "markdown",
   "id": "a6b675fd",
   "metadata": {},
   "source": [
    "#### Relación con los turistas y los trabajadores"
   ]
  },
  {
   "cell_type": "markdown",
   "id": "3ef38acd",
   "metadata": {},
   "source": [
    "Se pueden estudiar los que corresponden al **verano** y los de **otoño**, para ver si en la primera época crece la cifra de turistas y en la siguiente aumentan los trabajadores que vuelven a la rutina."
   ]
  },
  {
   "cell_type": "code",
   "execution_count": 13,
   "id": "d6031fac",
   "metadata": {
    "scrolled": true
   },
   "outputs": [
    {
     "name": "stdout",
     "output_type": "stream",
     "text": [
      "Verano:\n",
      "+---------+----------------+\n",
      "|user_type|sum(travel_time)|\n",
      "+---------+----------------+\n",
      "|        1|       609789864|\n",
      "|        3|       197096331|\n",
      "|        2|        27833427|\n",
      "+---------+----------------+\n",
      "\n",
      "Otoño:\n",
      "+---------+----------------+\n",
      "|user_type|sum(travel_time)|\n",
      "+---------+----------------+\n",
      "|        1|       725454472|\n",
      "|        3|       230756392|\n",
      "|        2|        19501849|\n",
      "|        0|         2809015|\n",
      "+---------+----------------+\n",
      "\n"
     ]
    }
   ],
   "source": [
    "print ('Verano:')\n",
    "verano.groupBy('user_type').sum('travel_time').show()\n",
    "print ('Otoño:')\n",
    "otoño.groupBy('user_type').sum('travel_time').show()"
   ]
  },
  {
   "cell_type": "markdown",
   "id": "7fde6c33",
   "metadata": {},
   "source": [
    "Se ve que en ambos meses **los usuarios que más han usado este servicio son aquellos que cuentan con un pase anual**, seguidos de los **trabajadores de la empresa** y con un perfil de **turista** en tercer lugar. Además, en septiembre aparecen bastantes segundos en los que no se ha podido determinar el tipo de usuario."
   ]
  },
  {
   "cell_type": "markdown",
   "id": "635b2dda",
   "metadata": {},
   "source": [
    "Hagamos una **comparación** también **con el resto de estaciones** por si varían las cifras."
   ]
  },
  {
   "cell_type": "code",
   "execution_count": 14,
   "id": "65efeaf7",
   "metadata": {
    "scrolled": true
   },
   "outputs": [
    {
     "name": "stdout",
     "output_type": "stream",
     "text": [
      "Invierno:\n",
      "+---------+----------------+\n",
      "|user_type|sum(travel_time)|\n",
      "+---------+----------------+\n",
      "|        1|       558317570|\n",
      "|        3|       238866299|\n",
      "|        2|        20902982|\n",
      "+---------+----------------+\n",
      "\n",
      "Primavera:\n",
      "+---------+----------------+\n",
      "|user_type|sum(travel_time)|\n",
      "+---------+----------------+\n",
      "|        1|       628596849|\n",
      "|        3|       202869918|\n",
      "|        2|        38550135|\n",
      "+---------+----------------+\n",
      "\n"
     ]
    }
   ],
   "source": [
    "print ('Invierno:')\n",
    "invierno.groupBy('user_type').sum('travel_time').show()\n",
    "print ('Primavera:')\n",
    "primavera.groupBy('user_type').sum('travel_time').show()"
   ]
  },
  {
   "cell_type": "markdown",
   "id": "4b797d7d",
   "metadata": {},
   "source": [
    "Se observa que en **el resto de meses la estructura es similar**, con menos diferencia entre el tiempo de viaje entre los usuarios anuales y los trabajadores."
   ]
  },
  {
   "cell_type": "markdown",
   "id": "7936d8b7",
   "metadata": {},
   "source": [
    "A continuación, se lleva a cabo un **análisis más detallado** sobre los tipos de usuarios en estos meses de verano y otoño, además de los del resto del año, con el fin de ver la distribución que siguen."
   ]
  },
  {
   "cell_type": "code",
   "execution_count": 15,
   "id": "419c0d59",
   "metadata": {},
   "outputs": [],
   "source": [
    "junio = meses('201806_Usage_Bicimad.json')\n",
    "julio = meses('201807_Usage_Bicimad.json')\n",
    "agosto = meses('201808_Usage_Bicimad.json')"
   ]
  },
  {
   "cell_type": "code",
   "execution_count": 16,
   "id": "8287afd6",
   "metadata": {
    "scrolled": true
   },
   "outputs": [
    {
     "name": "stdout",
     "output_type": "stream",
     "text": [
      "Junio:\n",
      "+---------+----------------+\n",
      "|user_type|sum(travel_time)|\n",
      "+---------+----------------+\n",
      "|        1|       206493246|\n",
      "|        3|        57946871|\n",
      "|        2|         8500781|\n",
      "+---------+----------------+\n",
      "\n",
      "Julio:\n",
      "+---------+----------------+\n",
      "|user_type|sum(travel_time)|\n",
      "+---------+----------------+\n",
      "|        1|       236703394|\n",
      "|        3|        78967515|\n",
      "|        2|         9856751|\n",
      "+---------+----------------+\n",
      "\n",
      "Agosto:\n",
      "+---------+----------------+\n",
      "|user_type|sum(travel_time)|\n",
      "+---------+----------------+\n",
      "|        1|       166593224|\n",
      "|        3|        60181945|\n",
      "|        2|         9475895|\n",
      "+---------+----------------+\n",
      "\n"
     ]
    }
   ],
   "source": [
    "print ('Junio:')\n",
    "junio.groupBy('user_type').sum('travel_time').show()\n",
    "\n",
    "print ('Julio:')\n",
    "julio.groupBy('user_type').sum('travel_time').show()\n",
    "\n",
    "print ('Agosto:')\n",
    "agosto.groupBy('user_type').sum('travel_time').show()"
   ]
  },
  {
   "cell_type": "code",
   "execution_count": 17,
   "id": "851b0c71",
   "metadata": {},
   "outputs": [
    {
     "name": "stdout",
     "output_type": "stream",
     "text": [
      "En junio el número de viajes fue: 271517\n",
      "En julio el número de viajes fue: 315450\n",
      "En agosto el número de viajes fue: 224362\n"
     ]
    }
   ],
   "source": [
    "print ('En junio el número de viajes fue: ' + str(junio.count()))\n",
    "print ('En julio el número de viajes fue: ' + str(julio.count()))\n",
    "print ('En agosto el número de viajes fue: ' + str(agosto.count()))"
   ]
  },
  {
   "cell_type": "markdown",
   "id": "14767765",
   "metadata": {},
   "source": [
    "Entre estos tres meses, **apenas se produce variación** entre los tipos de usuarios. Lo que sí que cambia es el total de tiempo de viaje, siendo **julio el mes en el que es mayor**, seguido de junio y, finalmente, agosto es cuando menos se usan las bicis dentro del verano, ya que al final mucha gente se desplaza a la playa, por ejemplo, aunque haya turismo."
   ]
  },
  {
   "cell_type": "code",
   "execution_count": 18,
   "id": "82152c48",
   "metadata": {},
   "outputs": [],
   "source": [
    "septiembre = meses('201809_Usage_Bicimad.json')\n",
    "octubre = meses('201810_Usage_Bicimad.json')\n",
    "noviembre = meses('201811_Usage_Bicimad.json')"
   ]
  },
  {
   "cell_type": "code",
   "execution_count": 19,
   "id": "9993c07b",
   "metadata": {
    "scrolled": true
   },
   "outputs": [
    {
     "name": "stdout",
     "output_type": "stream",
     "text": [
      "Septiembre:\n",
      "+---------+----------------+\n",
      "|user_type|sum(travel_time)|\n",
      "+---------+----------------+\n",
      "|        1|       292795101|\n",
      "|        3|        63163813|\n",
      "|        2|         9308276|\n",
      "|        0|         2456711|\n",
      "+---------+----------------+\n",
      "\n",
      "Octubre:\n",
      "+---------+----------------+\n",
      "|user_type|sum(travel_time)|\n",
      "+---------+----------------+\n",
      "|        0|          352304|\n",
      "|        1|       241139072|\n",
      "|        3|       104178708|\n",
      "|        2|         6178039|\n",
      "+---------+----------------+\n",
      "\n",
      "Noviembre:\n",
      "+---------+----------------+\n",
      "|user_type|sum(travel_time)|\n",
      "+---------+----------------+\n",
      "|        1|       191520299|\n",
      "|        3|        63413871|\n",
      "|        2|         4015534|\n",
      "+---------+----------------+\n",
      "\n"
     ]
    }
   ],
   "source": [
    "print ('Septiembre:')\n",
    "septiembre.groupBy('user_type').sum('travel_time').show()\n",
    "\n",
    "print ('Octubre:')\n",
    "octubre.groupBy('user_type').sum('travel_time').show()\n",
    "\n",
    "print ('Noviembre:')\n",
    "noviembre.groupBy('user_type').sum('travel_time').show()"
   ]
  },
  {
   "cell_type": "code",
   "execution_count": 20,
   "id": "a2669d16",
   "metadata": {},
   "outputs": [
    {
     "name": "stdout",
     "output_type": "stream",
     "text": [
      "En septiembre el número de viajes fue: 368950\n",
      "En noviembre el número de viajes fue: 322279\n",
      "En octubre el número de viajes fue: 253664\n"
     ]
    }
   ],
   "source": [
    "print ('En septiembre el número de viajes fue: ' + str(septiembre.count()))\n",
    "print ('En noviembre el número de viajes fue: ' + str(octubre.count()))\n",
    "print ('En octubre el número de viajes fue: ' + str(noviembre.count()))"
   ]
  },
  {
   "cell_type": "markdown",
   "id": "beb8edfd",
   "metadata": {},
   "source": [
    "En este caso, el orden de más a menos segundos, es **como en verano**; con la diferencia de que en septiembre y octubre aparecen usuarios cuyo tipo no se han podido determinar.\n",
    "\n",
    "Por otra parte, se aprecia que **el perfil turista va disminuyendo su uso** de BiciMad a medida que transcurren los meses de otoño y **el perfil de trabajador de la empresa aumenta considerablemente en el mes de octubre**.\n",
    "\n",
    "También, se ve un **aumento del total con respecto de los meses de verano**, ya que en septiembre mucha gente se vuelve a incorporar a su día a día de durante el resto del año."
   ]
  },
  {
   "cell_type": "markdown",
   "id": "61abcad4",
   "metadata": {},
   "source": [
    "Se estudian entonces las otras dos temporadas restantes."
   ]
  },
  {
   "cell_type": "code",
   "execution_count": 21,
   "id": "dcdd41b6",
   "metadata": {},
   "outputs": [],
   "source": [
    "diciembre = meses('201812_Usage_Bicimad.json')\n",
    "enero = meses('201801_Usage_Bicimad.json')\n",
    "febrero = meses('201802_Usage_Bicimad.json')"
   ]
  },
  {
   "cell_type": "code",
   "execution_count": 22,
   "id": "eade481d",
   "metadata": {
    "scrolled": true
   },
   "outputs": [
    {
     "name": "stdout",
     "output_type": "stream",
     "text": [
      "Diciembre:\n",
      "+---------+----------------+\n",
      "|user_type|sum(travel_time)|\n",
      "+---------+----------------+\n",
      "|        1|       174613178|\n",
      "|        3|        79666422|\n",
      "|        2|         5246220|\n",
      "+---------+----------------+\n",
      "\n",
      "Enero:\n",
      "+---------+----------------+\n",
      "|user_type|sum(travel_time)|\n",
      "+---------+----------------+\n",
      "|        1|       202810971|\n",
      "|        3|        91923053|\n",
      "|        2|         7422020|\n",
      "+---------+----------------+\n",
      "\n",
      "Febrero:\n",
      "+---------+----------------+\n",
      "|user_type|sum(travel_time)|\n",
      "+---------+----------------+\n",
      "|        1|       180893421|\n",
      "|        3|        67276824|\n",
      "|        2|         8234742|\n",
      "+---------+----------------+\n",
      "\n"
     ]
    }
   ],
   "source": [
    "print ('Diciembre:')\n",
    "diciembre.groupBy('user_type').sum('travel_time').show()\n",
    "\n",
    "print ('Enero:')\n",
    "enero.groupBy('user_type').sum('travel_time').show()\n",
    "\n",
    "print ('Febrero:')\n",
    "febrero.groupBy('user_type').sum('travel_time').show()"
   ]
  },
  {
   "cell_type": "code",
   "execution_count": 23,
   "id": "b37a9938",
   "metadata": {},
   "outputs": [
    {
     "name": "stdout",
     "output_type": "stream",
     "text": [
      "En diciembre el número de viajes fue: 229667\n",
      "En enero el número de viajes fue: 263702\n",
      "En febrero el número de viajes fue: 232103\n"
     ]
    }
   ],
   "source": [
    "print ('En diciembre el número de viajes fue: ' + str(diciembre.count()))\n",
    "print ('En enero el número de viajes fue: ' + str(enero.count()))\n",
    "print ('En febrero el número de viajes fue: ' + str(febrero.count()))"
   ]
  },
  {
   "cell_type": "code",
   "execution_count": 24,
   "id": "926a6342",
   "metadata": {
    "scrolled": true
   },
   "outputs": [
    {
     "name": "stdout",
     "output_type": "stream",
     "text": [
      "Marzo:\n",
      "+---------+----------------+\n",
      "|user_type|sum(travel_time)|\n",
      "+---------+----------------+\n",
      "|        1|       172488910|\n",
      "|        3|        72840210|\n",
      "|        2|         8357423|\n",
      "+---------+----------------+\n",
      "\n",
      "Abril:\n",
      "+---------+----------------+\n",
      "|user_type|sum(travel_time)|\n",
      "+---------+----------------+\n",
      "|        1|       241861803|\n",
      "|        3|        77857097|\n",
      "|        2|        14956546|\n",
      "+---------+----------------+\n",
      "\n",
      "Mayo:\n",
      "+---------+----------------+\n",
      "|user_type|sum(travel_time)|\n",
      "+---------+----------------+\n",
      "|        1|       214246136|\n",
      "|        3|        52172611|\n",
      "|        2|        15236166|\n",
      "+---------+----------------+\n",
      "\n"
     ]
    }
   ],
   "source": [
    "print ('Marzo:')\n",
    "marzo.groupBy('user_type').sum('travel_time').show()\n",
    "\n",
    "print ('Abril:')\n",
    "abril.groupBy('user_type').sum('travel_time').show()\n",
    "\n",
    "print ('Mayo:')\n",
    "mayo.groupBy('user_type').sum('travel_time').show()"
   ]
  },
  {
   "cell_type": "markdown",
   "id": "88bcf080",
   "metadata": {},
   "source": [
    "En los meses correspondientes al **invierno** y a la **primavera**, todos los tipos de usuarios están identificados y el orden de mayor a menor uso de cada tipo de usuario es el **mismo**. En **abril** y en **mayo** **aumentan los usuarios anuales**. Esto puede ser porque son los meses donde hace buen tiempo, pero todavía no es verano."
   ]
  },
  {
   "cell_type": "markdown",
   "id": "be7ef947",
   "metadata": {},
   "source": [
    "Un aspecto curioso a destacar es que **solo en septiembre y octubre aparecen usuarios no identificados** según el tipo de pase."
   ]
  },
  {
   "cell_type": "markdown",
   "id": "fbe452ca",
   "metadata": {},
   "source": [
    "En el año **2019** aumentó el número de turistas que visitaron la ciudad respecto al año anterior. Según los datos proporcionados por **https://www.madrid-destino.com/turismo/estadisticas**, hemos visto que los meses en los que aumentó más el turismo fueron los que forman las estaciones de **Primavera** y **Verano**. Veamos entoces si hay más turistas  que usaron el servicio de **BiciMad** respecto al año 2018.     "
   ]
  },
  {
   "cell_type": "code",
   "execution_count": 25,
   "id": "031de9e0",
   "metadata": {},
   "outputs": [
    {
     "name": "stdout",
     "output_type": "stream",
     "text": [
      "Verano19:\n",
      "+---------+----------------+\n",
      "|user_type|sum(travel_time)|\n",
      "+---------+----------------+\n",
      "|        1|       712566472|\n",
      "|        3|       267948938|\n",
      "|        2|        25449426|\n",
      "+---------+----------------+\n",
      "\n",
      "Primavera19:\n",
      "+---------+----------------+\n",
      "|user_type|sum(travel_time)|\n",
      "+---------+----------------+\n",
      "|        1|       799116284|\n",
      "|        3|       312331530|\n",
      "|        2|        34786379|\n",
      "+---------+----------------+\n",
      "\n"
     ]
    }
   ],
   "source": [
    "verano19 = datos('201906_Usage_Bicimad.json','201907_movements.json','201908_movements.json')\n",
    "print ('Verano19:')\n",
    "verano19.groupBy('user_type').sum('travel_time').show()\n",
    "\n",
    "primavera19 = datos('201903_Usage_Bicimad.json','201904_Usage_Bicimad.json','201905_Usage_Bicimad.json')\n",
    "print ('Primavera19:')\n",
    "primavera19.groupBy('user_type').sum('travel_time').show()"
   ]
  },
  {
   "cell_type": "markdown",
   "id": "2350df92",
   "metadata": {},
   "source": [
    "Aunque esperábamos que el número de usuarios de tipo turista aumentase en estos meses con respecto a estas épocas en el año anterior, no es así. **Aumentaron los tipos 1 y 3, descendiendo el 2.**"
   ]
  },
  {
   "cell_type": "markdown",
   "id": "28a72a25",
   "metadata": {},
   "source": [
    "Tras conocer esta información, como hemos visto que en **2017** hubo menos turistas que en 2018, especialmente en **Verano** y **Otoño**, veamos entoces si hubo menos turistas que usaron el servicio de **BiciMad** respecto al año 2018. De esta forma, se comprobará si 2019 fue un caso atípico por el tipo de turismo o si, en general, no hay relación entre el turismo y el número de viajes de este tipo de usuario. "
   ]
  },
  {
   "cell_type": "code",
   "execution_count": 26,
   "id": "8209e61f",
   "metadata": {},
   "outputs": [
    {
     "name": "stdout",
     "output_type": "stream",
     "text": [
      "Verano17:\n",
      "+---------+----------------+\n",
      "|user_type|sum(travel_time)|\n",
      "+---------+----------------+\n",
      "|        1|       624788722|\n",
      "|        3|       292576421|\n",
      "|        2|        21675912|\n",
      "|        0|        27749379|\n",
      "+---------+----------------+\n",
      "\n",
      "Otoño17:\n",
      "+---------+----------------+\n",
      "|user_type|sum(travel_time)|\n",
      "+---------+----------------+\n",
      "|        1|       786757381|\n",
      "|        3|       320909881|\n",
      "|        2|        25135549|\n",
      "|        0|        64013405|\n",
      "+---------+----------------+\n",
      "\n"
     ]
    }
   ],
   "source": [
    "verano17 = datos('201706_Usage_Bicimad.json','201707_Usage_Bicimad.json','201708_Usage_Bicimad.json')\n",
    "print ('Verano17:')\n",
    "verano17.groupBy('user_type').sum('travel_time').show()\n",
    "\n",
    "otoño17 = datos('201709_Usage_Bicimad.json','201710_Usage_Bicimad.json','201711_Usage_Bicimad.json')\n",
    "print ('Otoño17:')\n",
    "otoño17.groupBy('user_type').sum('travel_time').show()"
   ]
  },
  {
   "cell_type": "markdown",
   "id": "89e90b69",
   "metadata": {},
   "source": [
    "En **Verano de 2017** el número de turistas ha **disminuido** con respecto al año 2018. Pero en **Otoño del 2017** el número de turistas **aumenta**, esto tiene sentido pues como hemos dicho anteriormente (aunque son las estaciones menos lluviosas) en el Otoño de 2018 hubo un aumento notable de las precipitaciones en comparación con 2017.  \n",
    "\n",
    "También podemos destacar que en **Verano17** aparece el **usuarios no identificados**. Dicho valor no aparece en los datos del 2018, por lo que esto influye también en que disminuya el resto de grupos que aparecen en el análisis. "
   ]
  },
  {
   "cell_type": "markdown",
   "id": "86323e1d",
   "metadata": {},
   "source": [
    "## Comparación de las estaciones BiciMad"
   ]
  },
  {
   "cell_type": "markdown",
   "id": "0e674dbc",
   "metadata": {},
   "source": [
    "En esta parte veremos en qué **estaciones** se cogieron las bicicletas en los meses de verano y otoño. De esta forma, se conseguirá ver si siempre se suelen usar las mismas o si, por el contrario, varían dependiendo de qué cliente desenganche la bicicleta.\n",
    "\n",
    "Decidimos que ya es una estación a destacar si había habido **más de 3500 movimientos** ahí."
   ]
  },
  {
   "cell_type": "code",
   "execution_count": 27,
   "id": "5b06501d",
   "metadata": {
    "scrolled": true
   },
   "outputs": [
    {
     "name": "stdout",
     "output_type": "stream",
     "text": [
      "Junio:\n",
      "+----------------+-----+\n",
      "|idunplug_station|count|\n",
      "+----------------+-----+\n",
      "|             149| 3538|\n",
      "|              57| 4128|\n",
      "|              43| 4144|\n",
      "|             175| 4004|\n",
      "|             163| 4101|\n",
      "|             135| 4409|\n",
      "|             129| 3958|\n",
      "+----------------+-----+\n",
      "\n",
      "Julio:\n",
      "+----------------+-----+\n",
      "|idunplug_station|count|\n",
      "+----------------+-----+\n",
      "|             149| 4196|\n",
      "|              57| 4679|\n",
      "|              43| 4934|\n",
      "|              58| 3599|\n",
      "|               9| 3782|\n",
      "|             168| 3889|\n",
      "|             175| 4546|\n",
      "|             163| 4931|\n",
      "|             135| 5077|\n",
      "|             129| 4478|\n",
      "+----------------+-----+\n",
      "\n",
      "Agosto:\n",
      "+----------------+-----+\n",
      "|idunplug_station|count|\n",
      "+----------------+-----+\n",
      "|             175| 3622|\n",
      "|             135| 3801|\n",
      "+----------------+-----+\n",
      "\n"
     ]
    }
   ],
   "source": [
    "print ('Junio:')\n",
    "pgj = junio.groupBy('idunplug_station').count()\n",
    "pgj.filter(pgj['count']>3500).show()   \n",
    "\n",
    "print ('Julio:')\n",
    "pgjl = julio.groupBy('idunplug_station').count()\n",
    "pgjl.filter(pgjl['count']>3500).show()\n",
    "\n",
    "print ('Agosto:')\n",
    "pga = agosto.groupBy('idunplug_station').count()\n",
    "pga.filter(pga['count']>3500).show()"
   ]
  },
  {
   "cell_type": "markdown",
   "id": "bb337c4f",
   "metadata": {},
   "source": [
    "En junio y julio, de donde más bicicletas se recogen son las estaciones siguientes:\n",
    "\n",
    "- 135: Plaza de San Juan de la Cruz, Ríos Rosas (Chamberí).\n",
    "- 43: Calle de Lavapiés 36, Embajadores (Centro).\n",
    "- 57: Calle de Santa Cruz de Marcenado 24, Universidad (Centro).\n",
    "- 163: Paseo de la Esperanza, Acacias (Arganzuela).\n",
    "- 175: Calle de Jaime el Conquistador 30, Chopera (Arganzuela).\n",
    "- 129: Calle de José Abascal 33, Ríos Rosas (Chamberí).\n",
    "- 149: Paseo de la Habana 42, El Viso (Chamartín).\n",
    "\n",
    "En agosto, apenas hay estaciones que superen los 3500 movimientos, solo dos. Estas son la 135 y la 175, ubicadas en Chamberí y Arganzuela."
   ]
  },
  {
   "cell_type": "code",
   "execution_count": 28,
   "id": "d2e684eb",
   "metadata": {
    "scrolled": true
   },
   "outputs": [
    {
     "name": "stdout",
     "output_type": "stream",
     "text": [
      "Septiembre:\n",
      "+----------------+-----+\n",
      "|idunplug_station|count|\n",
      "+----------------+-----+\n",
      "|              19| 4053|\n",
      "|             149| 4963|\n",
      "|              57| 5229|\n",
      "|              43| 4965|\n",
      "|              31| 3506|\n",
      "|             161| 3583|\n",
      "|              58| 3993|\n",
      "|               9| 3704|\n",
      "|               1| 4049|\n",
      "|             168| 4384|\n",
      "|             132| 3547|\n",
      "|             160| 3973|\n",
      "|              83| 3637|\n",
      "|              49| 3839|\n",
      "|             162| 3868|\n",
      "|             175| 5727|\n",
      "|             163| 5424|\n",
      "|             135| 6434|\n",
      "|             129| 5130|\n",
      "|              90| 3707|\n",
      "+----------------+-----+\n",
      "only showing top 20 rows\n",
      "\n",
      "Octubre:\n",
      "+----------------+-----+\n",
      "|idunplug_station|count|\n",
      "+----------------+-----+\n",
      "|             149| 4304|\n",
      "|              57| 4779|\n",
      "|              43| 4420|\n",
      "|             168| 4041|\n",
      "|             160| 3650|\n",
      "|             162| 3857|\n",
      "|             175| 4903|\n",
      "|             163| 5049|\n",
      "|             135| 4995|\n",
      "|             129| 4762|\n",
      "+----------------+-----+\n",
      "\n",
      "Noviembre:\n",
      "+----------------+-----+\n",
      "|idunplug_station|count|\n",
      "+----------------+-----+\n",
      "|              43| 3608|\n",
      "|             175| 3934|\n",
      "|             163| 3976|\n",
      "|             135| 3534|\n",
      "|             129| 3772|\n",
      "+----------------+-----+\n",
      "\n"
     ]
    }
   ],
   "source": [
    "print ('Septiembre:')\n",
    "pgs = septiembre.groupBy('idunplug_station').count()\n",
    "pgs.filter(pgs['count']>3500).show()  \n",
    "\n",
    "print ('Octubre:')\n",
    "pgo = octubre.groupBy('idunplug_station').count()\n",
    "pgo.filter(pgo['count']>3500).show()\n",
    "\n",
    "print ('Noviembre:')\n",
    "pgn = noviembre.groupBy('idunplug_station').count()\n",
    "pgn.filter(pgn['count']>3500).show()"
   ]
  },
  {
   "cell_type": "markdown",
   "id": "21c753a2",
   "metadata": {},
   "source": [
    "En septiembre, destaca el uso de:\n",
    "\n",
    "- 43: Calle de Lavapiés 36, Embajadores (Centro).\n",
    "- 149: Paseo de la Habana 42, El Viso (Chamartín).\n",
    "- 168: Paseo de Santa María de la Cabeza 32, Palos de Moguer (Arganzuela).\n",
    "- 19: Calle de Prim 4, Justicia (Centro).\n",
    "- 1: Calle de Alcalá 2 y 6, Sol (Centro).\n",
    "\n",
    "En octubre, por encima de los 3500 están:\n",
    "\n",
    "- 163: Paseo de la Esperanza, Acacias (Arganzuela).\n",
    "- 135: Plaza de San Juan de la Cruz, Ríos Rosas (Chamberí).\n",
    "- 175: Calle de Jaime el Conquistador 30, Chopera (Arganzuela).\n",
    "- 57: Calle de Santa Cruz de Marcenado 24, Universidad (Centro).\n",
    "- 129: Calle de José Abascal 33, Ríos Rosas (Chamberí).\n",
    "\n",
    "En noviembre:\n",
    "\n",
    "- 163: Paseo de la Esperanza, Acacias (Arganzuela).\n",
    "- 175: Calle de Jaime el Conquistador 30, Chopera (Arganzuela).\n",
    "- 129: Calle de José Abascal 33, Ríos Rosas (Chamberí).\n",
    "- 43: Calle de Lavapiés 36, Embajadores (Centro).\n",
    "- 135: Plaza de San Juan de la Cruz, Ríos Rosas (Chamberí)."
   ]
  },
  {
   "cell_type": "markdown",
   "id": "5ebdda1c",
   "metadata": {},
   "source": [
    "En general, **las estaciones que destacan durante estas dos temporadas son las mismas**, ubicadas principalmente en los distritos de **Chamberí**, **Centro** y **Arganzuela**. En **septiembre**, destacan algunas estaciones en **Sol** y **Justicia** que, a pesar de estar en el centro de la ciudad, no son tan comunes en el resto de meses."
   ]
  },
  {
   "cell_type": "markdown",
   "id": "a7077d19",
   "metadata": {},
   "source": [
    "Se ve **dónde se enganchan** normalmente las bicicletas en los meses anteriores."
   ]
  },
  {
   "cell_type": "code",
   "execution_count": 29,
   "id": "9bf85128",
   "metadata": {
    "scrolled": true
   },
   "outputs": [
    {
     "name": "stdout",
     "output_type": "stream",
     "text": [
      "Junio:\n",
      "+--------------+-----+\n",
      "|idplug_station|count|\n",
      "+--------------+-----+\n",
      "|           149| 3554|\n",
      "|            57| 4025|\n",
      "|            43| 4428|\n",
      "|           175| 4168|\n",
      "|           163| 4031|\n",
      "|           135| 4510|\n",
      "|           129| 3896|\n",
      "+--------------+-----+\n",
      "\n",
      "Julio:\n",
      "+--------------+-----+\n",
      "|idplug_station|count|\n",
      "+--------------+-----+\n",
      "|           149| 4286|\n",
      "|            57| 4543|\n",
      "|            43| 5036|\n",
      "|             9| 3704|\n",
      "|           168| 4023|\n",
      "|           175| 4855|\n",
      "|           163| 4962|\n",
      "|           135| 5245|\n",
      "|           129| 4370|\n",
      "+--------------+-----+\n",
      "\n",
      "Agosto:\n",
      "+--------------+-----+\n",
      "|idplug_station|count|\n",
      "+--------------+-----+\n",
      "|           175| 3665|\n",
      "|           135| 3834|\n",
      "+--------------+-----+\n",
      "\n"
     ]
    }
   ],
   "source": [
    "print ('Junio:')\n",
    "pgj = junio.groupBy('idplug_station').count()\n",
    "pgj.filter(pgj['count']>3500).show()   \n",
    "\n",
    "print ('Julio:')\n",
    "pgjl = julio.groupBy('idplug_station').count()\n",
    "pgjl.filter(pgjl['count']>3500).show()\n",
    "\n",
    "print ('Agosto:')\n",
    "pga = agosto.groupBy('idplug_station').count()\n",
    "pga.filter(pga['count']>3500).show()"
   ]
  },
  {
   "cell_type": "markdown",
   "id": "ae46170f",
   "metadata": {},
   "source": [
    "En general, durante el **verano**, las estaciones donde más bicicletas se cogen y dejan suelen ser **las mismas**."
   ]
  },
  {
   "cell_type": "code",
   "execution_count": 30,
   "id": "a2edbe8d",
   "metadata": {
    "scrolled": true
   },
   "outputs": [
    {
     "name": "stdout",
     "output_type": "stream",
     "text": [
      "Septiembre:\n",
      "+--------------+-----+\n",
      "|idplug_station|count|\n",
      "+--------------+-----+\n",
      "|            19| 3953|\n",
      "|           149| 4985|\n",
      "|            57| 5141|\n",
      "|            43| 5125|\n",
      "|           161| 3677|\n",
      "|            58| 3829|\n",
      "|             9| 3639|\n",
      "|             1| 4008|\n",
      "|           168| 4480|\n",
      "|           132| 3546|\n",
      "|           160| 4043|\n",
      "|            83| 3651|\n",
      "|            49| 3922|\n",
      "|           162| 4053|\n",
      "|           175| 5825|\n",
      "|           163| 5459|\n",
      "|           135| 6655|\n",
      "|           129| 5071|\n",
      "|            90| 3664|\n",
      "|            46| 3768|\n",
      "+--------------+-----+\n",
      "\n",
      "Octubre:\n",
      "+--------------+-----+\n",
      "|idplug_station|count|\n",
      "+--------------+-----+\n",
      "|           149| 4352|\n",
      "|            57| 4586|\n",
      "|            43| 4567|\n",
      "|           168| 4139|\n",
      "|           160| 3669|\n",
      "|           162| 4015|\n",
      "|           175| 5050|\n",
      "|           163| 5163|\n",
      "|           135| 5172|\n",
      "|           129| 4741|\n",
      "+--------------+-----+\n",
      "\n",
      "Noviembre:\n",
      "+--------------+-----+\n",
      "|idplug_station|count|\n",
      "+--------------+-----+\n",
      "|            43| 3781|\n",
      "|           175| 4111|\n",
      "|           163| 3963|\n",
      "|           135| 3698|\n",
      "|           129| 3690|\n",
      "+--------------+-----+\n",
      "\n"
     ]
    }
   ],
   "source": [
    "print ('Septiembre:')\n",
    "pgs = septiembre.groupBy('idplug_station').count()\n",
    "pgs.filter(pgs['count']>3500).show()  \n",
    "\n",
    "print ('Octubre:')\n",
    "pgo = octubre.groupBy('idplug_station').count()\n",
    "pgo.filter(pgo['count']>3500).show()\n",
    "\n",
    "print ('Noviembre:')\n",
    "pgn = noviembre.groupBy('idplug_station').count()\n",
    "pgn.filter(pgn['count']>3500).show()"
   ]
  },
  {
   "cell_type": "markdown",
   "id": "62935a96",
   "metadata": {},
   "source": [
    "En **septiembre**, principalmente se usan las estaciones:\n",
    "\n",
    "- 135: Plaza de San Juan de la Cruz, Ríos Rosas (Chamberí).\n",
    "- 175: Calle de Jaime el Conquistador 30, Chopera (Arganzuela).\n",
    "- 163: Paseo de la Esperanza, Acacias (Arganzuela).\n",
    "- 57: Calle de Santa Cruz de Marcenado 24, Universidad (Centro).\n",
    "- 43: Calle de Lavapiés 36, Embajadores (Centro).\n",
    "\n",
    "Exceptuando la de la Calle de Lavapiés, el resto **no son las mismas** que destacan en el desenganche para el mismo mes, pero sí que se encuentran en los **mismos distritos**, sin contar con Chamartín.\n",
    "\n",
    "En **octubre** y **noviembre**, las estaciones con más desenganches son **las mismas** que las que más enganches tienen."
   ]
  },
  {
   "cell_type": "markdown",
   "id": "a55e0391",
   "metadata": {},
   "source": [
    "Ahora veremos en qué **estaciones se desenganchan** menos las bicicletas en los meses de verano y otoño. Así, podremos ver si suelen las mismas o si, por el contrario, varían dependiendo de qué cliente desenganche la bicicleta.\n",
    "\n",
    "Decidimos que ya es una estación a destacar si había habido **menos de 500 movimientos**."
   ]
  },
  {
   "cell_type": "code",
   "execution_count": 31,
   "id": "35c30c45",
   "metadata": {
    "scrolled": false
   },
   "outputs": [
    {
     "name": "stdout",
     "output_type": "stream",
     "text": [
      "Junio:\n",
      "+----------------+-----+\n",
      "|idunplug_station|count|\n",
      "+----------------+-----+\n",
      "|             119|  417|\n",
      "|              88|  321|\n",
      "|              28|  449|\n",
      "|            2008|    1|\n",
      "+----------------+-----+\n",
      "\n",
      "Julio:\n",
      "+----------------+-----+\n",
      "|idunplug_station|count|\n",
      "+----------------+-----+\n",
      "|              28|  445|\n",
      "|              88|  354|\n",
      "|              37|  113|\n",
      "+----------------+-----+\n",
      "\n",
      "Agosto:\n",
      "+----------------+-----+\n",
      "|idunplug_station|count|\n",
      "+----------------+-----+\n",
      "|             144|  346|\n",
      "|             119|  410|\n",
      "|              28|  377|\n",
      "|              88|  256|\n",
      "|             120|  438|\n",
      "|              61|  304|\n",
      "|             173|  369|\n",
      "|             152|  376|\n",
      "|            2008|    1|\n",
      "+----------------+-----+\n",
      "\n"
     ]
    }
   ],
   "source": [
    "print ('Junio:')\n",
    "pgj = junio.groupBy('idunplug_station').count()\n",
    "pgj.filter(pgj['count']<500).show()   \n",
    "\n",
    "print ('Julio:')\n",
    "pgjl = julio.groupBy('idunplug_station').count()\n",
    "pgjl.filter(pgjl['count']<500).show()\n",
    "\n",
    "print ('Agosto:')\n",
    "pga = agosto.groupBy('idunplug_station').count()\n",
    "pga.filter(pga['count']<500).show()"
   ]
  },
  {
   "cell_type": "markdown",
   "id": "9c9c3fd7",
   "metadata": {},
   "source": [
    "En **junio, julio y agosto**, notamos que hay dos estaciones comunes donde se recogen las bicicletas:\n",
    "\n",
    "- 28: Calle de Alcalá (Centro).\n",
    "- 88: Calle de Velázquez (Salamanca).\n",
    "\n",
    "\n",
    "En **junio y agosto**, también comparten dos estaciones en común. \n",
    "\n",
    "- 119: Calle de Méndez Álvaro (Arganzuela).\n",
    "- 2008 \n",
    "\n",
    "La **estación 2008** no aparece en los archivos, sólo tenemos 261 estaciones. A causa de esto, no podemos dar una ubicación exacta de dicha estación.\n",
    "\n",
    "Este dato puede ser un error de recogida o transcripción, incluso podría tratarse de la estación número 208. Si tomamos la estación como la 208 se trataría de la que está situada en **Paseo de la Castellana** en el distrito de **Chamartín**.\n",
    "\n",
    "Esta estación es la más destacada pues sólo hay **una recogida** en cada uno de los meses. "
   ]
  },
  {
   "cell_type": "code",
   "execution_count": 32,
   "id": "1bbbd4a4",
   "metadata": {},
   "outputs": [
    {
     "name": "stdout",
     "output_type": "stream",
     "text": [
      "Septiembre:\n",
      "+----------------+-----+\n",
      "|idunplug_station|count|\n",
      "+----------------+-----+\n",
      "|            2008|    2|\n",
      "+----------------+-----+\n",
      "\n",
      "Octubre:\n",
      "+----------------+-----+\n",
      "|idunplug_station|count|\n",
      "+----------------+-----+\n",
      "|             119|  495|\n",
      "|            2008|    9|\n",
      "+----------------+-----+\n",
      "\n",
      "Noviembre:\n",
      "+----------------+-----+\n",
      "|idunplug_station|count|\n",
      "+----------------+-----+\n",
      "|              29|  474|\n",
      "|             119|  387|\n",
      "|              28|  294|\n",
      "|              88|  463|\n",
      "+----------------+-----+\n",
      "\n"
     ]
    }
   ],
   "source": [
    "print ('Septiembre:')\n",
    "pgs = septiembre.groupBy('idunplug_station').count()\n",
    "pgs.filter(pgs['count']<500).show()  \n",
    "\n",
    "print ('Octubre:')\n",
    "pgo = octubre.groupBy('idunplug_station').count()\n",
    "pgo.filter(pgo['count']<500).show()\n",
    "\n",
    "print ('Noviembre:')\n",
    "pgn = noviembre.groupBy('idunplug_station').count()\n",
    "pgn.filter(pgn['count']<500).show()"
   ]
  },
  {
   "cell_type": "markdown",
   "id": "63a6c38e",
   "metadata": {},
   "source": [
    "Observamos que en los meses de **Septiempre** y **Octubre** hay solo una estación en común:\n",
    "\n",
    "- 2008 --> 208: Paseo de la Castellana (Chamartín).\n",
    "\n",
    "con una utilización de 2 y 9 viajes respectivamente. Esta es sin duda la estación que menos se usa en **Otoño**. \n",
    "\n",
    "En **Noviembre** las estaciones que menos se utilizan son:\n",
    "\n",
    "- 29: Calle del Marqués de Cubas (Centro).\n",
    "- 119: Calle de Méndez Álvaro (Arganzuela).\n",
    "- 28: Calle de Alcalá (Centro).\n",
    "- 88: Calle de Velázquez (Salamanca). \n"
   ]
  },
  {
   "cell_type": "markdown",
   "id": "23130194",
   "metadata": {},
   "source": [
    "En general, **las estaciones que menos se utilizan durante estas dos temporadas**, están en los distritos de **Chamartín**, **Centro**, **Arganzuela** y **Salamanca**. Destacando en especial la que se encuentra en el primer distrito pues en ambas temporadas es la que tiene los valores más bajos. "
   ]
  },
  {
   "cell_type": "markdown",
   "id": "2040c558",
   "metadata": {},
   "source": [
    "Veamos ahora dónde se **enganchan** menos las bicicletas en los meses que hemos estudiado anteriormente."
   ]
  },
  {
   "cell_type": "code",
   "execution_count": 33,
   "id": "2aa446d6",
   "metadata": {},
   "outputs": [
    {
     "name": "stdout",
     "output_type": "stream",
     "text": [
      "Junio:\n",
      "+--------------+-----+\n",
      "|idplug_station|count|\n",
      "+--------------+-----+\n",
      "|           119|  416|\n",
      "|            88|  409|\n",
      "|            28|  423|\n",
      "|          2008|    1|\n",
      "+--------------+-----+\n",
      "\n",
      "Julio:\n",
      "+--------------+-----+\n",
      "|idplug_station|count|\n",
      "+--------------+-----+\n",
      "|            88|  444|\n",
      "|            28|  389|\n",
      "|            37|   91|\n",
      "+--------------+-----+\n",
      "\n",
      "Agosto:\n",
      "+--------------+-----+\n",
      "|idplug_station|count|\n",
      "+--------------+-----+\n",
      "|           144|  332|\n",
      "|           119|  391|\n",
      "|           107|  468|\n",
      "|            88|  281|\n",
      "|            28|  400|\n",
      "|           120|  434|\n",
      "|            61|  334|\n",
      "|           101|  439|\n",
      "|           173|  377|\n",
      "|           152|  371|\n",
      "|          2008|    1|\n",
      "+--------------+-----+\n",
      "\n"
     ]
    }
   ],
   "source": [
    "print ('Junio:')\n",
    "pgj = junio.groupBy('idplug_station').count()\n",
    "pgj.filter(pgj['count']<500).show()   \n",
    "\n",
    "print ('Julio:')\n",
    "pgjl = julio.groupBy('idplug_station').count()\n",
    "pgjl.filter(pgjl['count']<500).show()\n",
    "\n",
    "print ('Agosto:')\n",
    "pga = agosto.groupBy('idplug_station').count()\n",
    "pga.filter(pga['count']<500).show()"
   ]
  },
  {
   "cell_type": "markdown",
   "id": "ebdab3b5",
   "metadata": {},
   "source": [
    "Al igual que nos sucedió anteriormente, las estaciones donde menos se cogen y se dejan las bicicletas en **Verano** son practicamente las mismas. "
   ]
  },
  {
   "cell_type": "code",
   "execution_count": 34,
   "id": "d8f35819",
   "metadata": {},
   "outputs": [
    {
     "name": "stdout",
     "output_type": "stream",
     "text": [
      "Septiembre:\n",
      "+--------------+-----+\n",
      "|idplug_station|count|\n",
      "+--------------+-----+\n",
      "|          2008|    2|\n",
      "+--------------+-----+\n",
      "\n",
      "Octubre:\n",
      "+--------------+-----+\n",
      "|idplug_station|count|\n",
      "+--------------+-----+\n",
      "|           119|  448|\n",
      "|          2008|    9|\n",
      "+--------------+-----+\n",
      "\n",
      "Noviembre:\n",
      "+--------------+-----+\n",
      "|idplug_station|count|\n",
      "+--------------+-----+\n",
      "|            29|  461|\n",
      "|           119|  384|\n",
      "|            28|  261|\n",
      "+--------------+-----+\n",
      "\n"
     ]
    }
   ],
   "source": [
    "print ('Septiembre:')\n",
    "pgs = septiembre.groupBy('idplug_station').count()\n",
    "pgs.filter(pgs['count']<500).show()  \n",
    "\n",
    "print ('Octubre:')\n",
    "pgo = octubre.groupBy('idplug_station').count()\n",
    "pgo.filter(pgo['count']<500).show()\n",
    "\n",
    "print ('Noviembre:')\n",
    "pgn = noviembre.groupBy('idplug_station').count()\n",
    "pgn.filter(pgn['count']<500).show()"
   ]
  },
  {
   "cell_type": "markdown",
   "id": "18dc0325",
   "metadata": {},
   "source": [
    "En **Otoño**, las estaciones donde se enganchan y se desenganchan las bicicletas son las mismas, exceptuando en **noviembre** la estación de la Calle de Velázquez. "
   ]
  },
  {
   "cell_type": "markdown",
   "id": "a3936c0e",
   "metadata": {},
   "source": [
    "## Comparación por edades"
   ]
  },
  {
   "cell_type": "markdown",
   "id": "b64bf76d",
   "metadata": {},
   "source": [
    "Hacemos un estudio por **edades** para ver si cambia el **público a lo largo del año**."
   ]
  },
  {
   "cell_type": "code",
   "execution_count": 35,
   "id": "0ced4949",
   "metadata": {
    "scrolled": true
   },
   "outputs": [
    {
     "name": "stdout",
     "output_type": "stream",
     "text": [
      "Junio:\n",
      "+--------+-----+\n",
      "|ageRange|count|\n",
      "+--------+-----+\n",
      "|       0|96998|\n",
      "|       6| 1254|\n",
      "|       5|53534|\n",
      "|       1| 2585|\n",
      "|       3|18267|\n",
      "|       2| 3314|\n",
      "|       4|95565|\n",
      "+--------+-----+\n",
      "\n",
      "Julio:\n",
      "+--------+------+\n",
      "|ageRange| count|\n",
      "+--------+------+\n",
      "|       0|119128|\n",
      "|       6|  1097|\n",
      "|       5| 62918|\n",
      "|       1|  4654|\n",
      "|       3| 19810|\n",
      "|       2|  3315|\n",
      "|       4|104528|\n",
      "+--------+------+\n",
      "\n",
      "Agosto:\n",
      "+--------+-----+\n",
      "|ageRange|count|\n",
      "+--------+-----+\n",
      "|       0|95919|\n",
      "|       6|  797|\n",
      "|       5|39557|\n",
      "|       1| 2539|\n",
      "|       3|13065|\n",
      "|       2| 1691|\n",
      "|       4|70794|\n",
      "+--------+-----+\n",
      "\n"
     ]
    }
   ],
   "source": [
    "print ('Junio:')\n",
    "junio.groupBy('ageRange').count().show()\n",
    "\n",
    "print ('Julio:')\n",
    "julio.groupBy('ageRange').count().show()\n",
    "\n",
    "print ('Agosto:')\n",
    "agosto.groupBy('ageRange').count().show()"
   ]
  },
  {
   "cell_type": "code",
   "execution_count": 36,
   "id": "823ab0df",
   "metadata": {
    "scrolled": true
   },
   "outputs": [
    {
     "name": "stdout",
     "output_type": "stream",
     "text": [
      "Septiembre:\n",
      "+--------+------+\n",
      "|ageRange| count|\n",
      "+--------+------+\n",
      "|       0|153639|\n",
      "|       6|  1416|\n",
      "|       5| 71918|\n",
      "|       1|  3907|\n",
      "|       3| 22550|\n",
      "|       2|  4051|\n",
      "|       4|111469|\n",
      "+--------+------+\n",
      "\n",
      "Octubre:\n",
      "+--------+------+\n",
      "|ageRange| count|\n",
      "+--------+------+\n",
      "|       0|135767|\n",
      "|       6|  1215|\n",
      "|       5| 64339|\n",
      "|       1|  3134|\n",
      "|       3| 19295|\n",
      "|       2|  3489|\n",
      "|       4| 95040|\n",
      "+--------+------+\n",
      "\n",
      "Noviembre:\n",
      "+--------+------+\n",
      "|ageRange| count|\n",
      "+--------+------+\n",
      "|       0|104076|\n",
      "|       6|  1064|\n",
      "|       5| 51997|\n",
      "|       1|  3596|\n",
      "|       3| 15054|\n",
      "|       2|  2719|\n",
      "|       4| 75158|\n",
      "+--------+------+\n",
      "\n"
     ]
    }
   ],
   "source": [
    "print ('Septiembre:')\n",
    "septiembre.groupBy('ageRange').count().show()\n",
    "\n",
    "print ('Octubre:')\n",
    "octubre.groupBy('ageRange').count().show()\n",
    "\n",
    "print ('Noviembre:')\n",
    "noviembre.groupBy('ageRange').count().show()"
   ]
  },
  {
   "cell_type": "code",
   "execution_count": 37,
   "id": "d604f54f",
   "metadata": {
    "scrolled": true
   },
   "outputs": [
    {
     "name": "stdout",
     "output_type": "stream",
     "text": [
      "Diciembre:\n",
      "+--------+-----+\n",
      "|ageRange|count|\n",
      "+--------+-----+\n",
      "|       0|95214|\n",
      "|       6| 1006|\n",
      "|       5|47321|\n",
      "|       1| 2729|\n",
      "|       3|13310|\n",
      "|       2| 2394|\n",
      "|       4|67693|\n",
      "+--------+-----+\n",
      "\n",
      "Enero:\n",
      "+--------+------+\n",
      "|ageRange| count|\n",
      "+--------+------+\n",
      "|       0| 71343|\n",
      "|       6|  1398|\n",
      "|       5| 57835|\n",
      "|       1|  7242|\n",
      "|       3| 20207|\n",
      "|       2|  3586|\n",
      "|       4|102091|\n",
      "+--------+------+\n",
      "\n",
      "Febrero:\n",
      "+--------+-----+\n",
      "|ageRange|count|\n",
      "+--------+-----+\n",
      "|       0|66920|\n",
      "|       6| 1163|\n",
      "|       5|50610|\n",
      "|       1| 4063|\n",
      "|       3|17116|\n",
      "|       2| 3261|\n",
      "|       4|88970|\n",
      "+--------+-----+\n",
      "\n"
     ]
    }
   ],
   "source": [
    "print ('Diciembre:')\n",
    "diciembre.groupBy('ageRange').count().show()\n",
    "\n",
    "print ('Enero:')\n",
    "enero.groupBy('ageRange').count().show()\n",
    "\n",
    "print ('Febrero:')\n",
    "febrero.groupBy('ageRange').count().show()"
   ]
  },
  {
   "cell_type": "code",
   "execution_count": 38,
   "id": "d89116dc",
   "metadata": {
    "scrolled": true
   },
   "outputs": [
    {
     "name": "stdout",
     "output_type": "stream",
     "text": [
      "Marzo:\n",
      "+--------+-----+\n",
      "|ageRange|count|\n",
      "+--------+-----+\n",
      "|       0|65628|\n",
      "|       6|  967|\n",
      "|       5|45499|\n",
      "|       1| 3526|\n",
      "|       3|15388|\n",
      "|       2| 2942|\n",
      "|       4|81743|\n",
      "+--------+-----+\n",
      "\n",
      "Abril:\n",
      "+--------+------+\n",
      "|ageRange| count|\n",
      "+--------+------+\n",
      "|       0| 99035|\n",
      "|       6|  1473|\n",
      "|       5| 61984|\n",
      "|       1|  3260|\n",
      "|       3| 21240|\n",
      "|       2|  3706|\n",
      "|       4|106739|\n",
      "+--------+------+\n",
      "\n",
      "Mayo:\n",
      "+--------+-----+\n",
      "|ageRange|count|\n",
      "+--------+-----+\n",
      "|       0|91195|\n",
      "|       6| 1260|\n",
      "|       5|53698|\n",
      "|       1| 2240|\n",
      "|       3|17464|\n",
      "|       2| 3214|\n",
      "|       4|93907|\n",
      "+--------+-----+\n",
      "\n"
     ]
    }
   ],
   "source": [
    "print ('Marzo:')\n",
    "marzo.groupBy('ageRange').count().show()\n",
    "\n",
    "print ('Abril:')\n",
    "abril.groupBy('ageRange').count().show()\n",
    "\n",
    "print ('Mayo:')\n",
    "mayo.groupBy('ageRange').count().show()"
   ]
  },
  {
   "cell_type": "markdown",
   "id": "b4912b80",
   "metadata": {},
   "source": [
    "En general, hay una gran cantidad de usuarios cuya edad no se ha podido identificar. \n",
    "\n",
    "Principalmente, **destaca el uso por parte de las personas de entre 27 y 40 años, seguido de las de 41 hasta 65**; lo que coincide con la clase trabajadora, que es la que siempre utiliza más este servicio. Aquellos con edades comprendidas **entre 19 y 26 suelen viajar de forma media en bicicleta**, y **los mayores de 66 son los que apenas usan este medio de transporte**, lo cual tiene sentido.\n",
    "\n",
    "No varía mucho por temporadas, solo **siguen más o menos la misma distribución**, cambiando según los distintos totales.\n",
    "\n",
    "En el caso de los más **jóvenes**, destaca el uso en el mes de **enero**, siendo mucho más elevado que en mayo o diciembre, meses con las cifras menos elevadas.\n",
    "\n",
    "También, se puede destacar que el **grupo 2** solo incluye a las personas de 17 y 18 años y aún así **viajan más que el grupo de los ancianos o que los más pequeños**, en ocasiones.\n",
    "\n",
    "Por último, para los de **mediana edad**, su uso es más o menos **constante** a lo largo del año, dependiendo del clima o de las épocas de trabajo, por ejemplo."
   ]
  },
  {
   "cell_type": "markdown",
   "id": "707ed366",
   "metadata": {},
   "source": [
    "# 3. CONCLUSIÓN"
   ]
  },
  {
   "cell_type": "markdown",
   "id": "561ecdfc",
   "metadata": {},
   "source": [
    "Para terminar, se comenzó agrupando **por estaciones** del año, con tres meses cada una. En **2018**, el número de viajes fue **mayor en otoño**, seguido de verano y con el **menor número en invierno**. La diferencia entre los dos extremos fue de 20000 viajes aproximadamente.\n",
    "\n",
    "Estudiando ahora el **clima**, como las lluvias se dieron principalmente en el mes de marzo en este año, se compararon los meses de primavera. En **abril fue cuando más uso se dio a BiciMad** y **en marzo**, en relación con este factor meteorológico, **se redujo bastante, con la excepción de los trabajadores de la empresa**.\n",
    "\n",
    "Para ver si esto tenía sentido, se llevo a cabo la **comparación con 2019**, con mejor clima. Aquí, se observó que **los viajes aumentaron en marzo y mayo**, principalmente.\n",
    "\n",
    "En general, **los tipos de usuarios son anuales, trabajadores de la empresa y turistas**, con algunos **no identificados en los meses de septiembre y octubre** en el caso de 2018.\n",
    "\n",
    "Se pensó que en verano hay más turistas y en otoño hay más gente trabajadora que se reincorpora a su rutina, por lo que se podría encontrar algún tipo de relación con el uso de BiciMad. Aunque a lo largo de todo el año **quienes más utilizan el servicio son aquellos que tienen pase anual y los que menos los turistas**, se vio que **en verano había más turistas que en otoño, disminuyendo a lo largo de esta última estación**, y que **en otoño aumentó el número de trabajadores**, destacando principalmente en el mes de octubre. \n",
    "\n",
    "Además, dentro del verano el mayor número de viajes se dan en julio y el menor, en agosto.\n",
    "\n",
    "Después, se compararon los datos con **2019**, año en el que hubo más viajeros en Madrid todavía. **Aumentan todos los usuarios menos los turistas**, lo cual quiere decir que, o el uso de bicicletas depende del tipo de turismo que se lleve a cabo o quizá este año es un dato atípico por cualquier otro motivo que no hemos tenido en cuenta.\n",
    "\n",
    "Habiendo sucedido esto, se tomó también el año **2017**, con menos turismo que 2018, especialmente en verano y otoño. **En la primera estación hubo menos usuarios de este tipo en 2017, pero más en otoño**. Esto quizá tuvo que ver con las precipitaciones, lo cual tendría sentido.\n",
    "\n",
    "En cuanto a las estaciones con **más tránsito**, se toman las que tienen **más de 3500 enganches o desenganches**, y para las que **menos** tienen se cogen las que cuentan con una cifra **inferior a 500**.\n",
    "\n",
    "Para el **desenganche**, en **junio y julio** destacan algunas estaciones de los distritos **Chamberí, Centro y Arganzuela**, aunque en agosto solo hay dos con una cifra elevada (135, 175). En **otoño**, aparecen otras nuevas estaciones como las de las zonas Sol y Justicia y en el resto de meses, se usan mucho algunas de **Arganzuela, Chamberí y Centro**.\n",
    "**Las que menos se usan en verano se encuentran en el Centro y en Arganzuela, incluyéndose en este grupo algunas de Salamanca en noviembre**. Además, aparece la estación 2008 con muy pocos movimientos que, o es un error de transcripción o hace referencia a la 208, en Paseo de la Castellana, Chamartín.\n",
    "\n",
    "En el caso del **enganche**, las estaciones son **similares a las de desenganche**, con algunas variaciones en septiembre y una excepción en noviembre.\n",
    "\n",
    "Por último, se analizó la **edad**, con muchos sin identificar y con un **uso predominante en las personas de mediana edad**, uno **medio en las personas de entre 19 y 26 años**, y **sin viajes apenas en las personas jubiladas**. Esto no varía mucho por temporadas, pero en enero los jóvenes van en bicicleta mucho más que en mayo o diciembre. Por otra parte, el grupo 2 (17-18 años) viaja más en que los ancianos o los pequeños, en total, aunque solo comprendan dos años de edad."
   ]
  }
 ],
 "metadata": {
  "kernelspec": {
   "display_name": "Python 3",
   "language": "python",
   "name": "python3"
  },
  "language_info": {
   "codemirror_mode": {
    "name": "ipython",
    "version": 3
   },
   "file_extension": ".py",
   "mimetype": "text/x-python",
   "name": "python",
   "nbconvert_exporter": "python",
   "pygments_lexer": "ipython3",
   "version": "3.8.2"
  }
 },
 "nbformat": 4,
 "nbformat_minor": 5
}
